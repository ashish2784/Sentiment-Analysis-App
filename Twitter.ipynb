{
  "nbformat": 4,
  "nbformat_minor": 0,
  "metadata": {
    "colab": {
      "provenance": []
    },
    "kernelspec": {
      "name": "python3",
      "display_name": "Python 3"
    },
    "language_info": {
      "name": "python"
    }
  },
  "cells": [
    {
      "cell_type": "markdown",
      "metadata": {
        "id": "fADS2oeENLwH"
      },
      "source": [
        "First, we load the dataset and perform some initial exploration to understand its structure and content."
      ]
    },
    {
      "cell_type": "code",
      "execution_count": null,
      "metadata": {
        "colab": {
          "base_uri": "https://localhost:8080/"
        },
        "id": "hIeDRWU62Zc3",
        "outputId": "b0e6470f-e739-4fc0-d2c2-2b6e1754248b"
      },
      "outputs": [
        {
          "output_type": "stream",
          "name": "stdout",
          "text": [
            "(74682, 4)\n",
            "sentiment\n",
            "Negative      22542\n",
            "Positive      20832\n",
            "Neutral       18318\n",
            "Irrelevant    12990\n",
            "Name: count, dtype: int64\n"
          ]
        }
      ],
      "source": [
        "import pandas as pd\n",
        "\n",
        "# Load dataset\n",
        "df = pd.read_csv(\"twitter_training.csv\", header=None)\n",
        "\n",
        "# Rename columns\n",
        "df.columns = [\"id\", \"entity\", \"sentiment\", \"text\"]\n",
        "\n",
        "# Basic info\n",
        "print(df.shape)\n",
        "\n",
        "print(df[\"sentiment\"].value_counts())"
      ]
    },
    {
      "cell_type": "markdown",
      "metadata": {
        "id": "d42d819d"
      },
      "source": [
        "Let's look at the first few rows of the dataframe to get a sense of the data."
      ]
    },
    {
      "cell_type": "code",
      "source": [
        "print(df.head())"
      ],
      "metadata": {
        "colab": {
          "base_uri": "https://localhost:8080/"
        },
        "id": "O-7Hv9QBIeZN",
        "outputId": "95eaaef5-7ca3-441f-93ad-429b8eafcfd8"
      },
      "execution_count": null,
      "outputs": [
        {
          "output_type": "stream",
          "name": "stdout",
          "text": [
            "     id       entity sentiment  \\\n",
            "0  2401  Borderlands  Positive   \n",
            "1  2401  Borderlands  Positive   \n",
            "2  2401  Borderlands  Positive   \n",
            "3  2401  Borderlands  Positive   \n",
            "4  2401  Borderlands  Positive   \n",
            "\n",
            "                                                text  \n",
            "0  im getting on borderlands and i will murder yo...  \n",
            "1  I am coming to the borders and I will kill you...  \n",
            "2  im getting on borderlands and i will kill you ...  \n",
            "3  im coming on borderlands and i will murder you...  \n",
            "4  im getting on borderlands 2 and i will murder ...  \n"
          ]
        }
      ]
    },
    {
      "cell_type": "markdown",
      "metadata": {
        "id": "62a58fcc"
      },
      "source": [
        "We define and apply a function to clean the text data. This function handles lowercasing, removes URLs, mentions, hashtags, and punctuation, and keeps only letters and spaces."
      ]
    },
    {
      "cell_type": "code",
      "source": [
        "import re, string\n",
        "\n",
        "def clean_text(text):\n",
        "    text = text.lower()                                    # lowercase\n",
        "    text = re.sub(r\"http\\S+|www\\S+\", \"\", text)             # remove URLs\n",
        "    text = re.sub(r\"@\\w+|#\\w+\", \"\", text)                  # remove mentions/hashtags\n",
        "    text = re.sub(r\"[^a-zA-Z\\s]\", \"\", text)                # keep only letters\n",
        "    text = text.translate(str.maketrans(\"\", \"\", string.punctuation))  # remove punctuation\n",
        "    return text.strip()\n",
        "\n",
        "# Apply cleaning\n",
        "df[\"clean_text\"] = df[\"text\"].astype(str).apply(clean_text)\n",
        "\n",
        "print(df[[\"text\", \"clean_text\"]].head(10))\n"
      ],
      "metadata": {
        "colab": {
          "base_uri": "https://localhost:8080/"
        },
        "id": "XjiOeVGj2ouj",
        "outputId": "ec405bc8-bdf1-43aa-f44f-f29a1a17ea44"
      },
      "execution_count": null,
      "outputs": [
        {
          "output_type": "stream",
          "name": "stdout",
          "text": [
            "                                                text  \\\n",
            "0  im getting on borderlands and i will murder yo...   \n",
            "1  I am coming to the borders and I will kill you...   \n",
            "2  im getting on borderlands and i will kill you ...   \n",
            "3  im coming on borderlands and i will murder you...   \n",
            "4  im getting on borderlands 2 and i will murder ...   \n",
            "5  im getting into borderlands and i can murder y...   \n",
            "6  So I spent a few hours making something for fu...   \n",
            "7  So I spent a couple of hours doing something f...   \n",
            "8  So I spent a few hours doing something for fun...   \n",
            "9  So I spent a few hours making something for fu...   \n",
            "\n",
            "                                          clean_text  \n",
            "0  im getting on borderlands and i will murder yo...  \n",
            "1  i am coming to the borders and i will kill you...  \n",
            "2  im getting on borderlands and i will kill you all  \n",
            "3  im coming on borderlands and i will murder you...  \n",
            "4  im getting on borderlands  and i will murder y...  \n",
            "5  im getting into borderlands and i can murder y...  \n",
            "6  so i spent a few hours making something for fu...  \n",
            "7  so i spent a couple of hours doing something f...  \n",
            "8  so i spent a few hours doing something for fun...  \n",
            "9  so i spent a few hours making something for fu...  \n"
          ]
        }
      ]
    },
    {
      "cell_type": "markdown",
      "metadata": {
        "id": "fbf0ac7a"
      },
      "source": [
        "We split the data into training and testing sets and then use TF-IDF vectorization to convert the text data into numerical features."
      ]
    },
    {
      "cell_type": "code",
      "source": [
        "from sklearn.feature_extraction.text import TfidfVectorizer\n",
        "from sklearn.model_selection import train_test_split\n",
        "\n",
        "# Train-test split (80% training, 20% testing)\n",
        "X_train, X_test, y_train, y_test = train_test_split(\n",
        "    df[\"clean_text\"], df[\"sentiment\"],\n",
        "    test_size=0.2, random_state=42, stratify=df[\"sentiment\"]\n",
        ")\n",
        "\n",
        "# TF-IDF Vectorizer\n",
        "vectorizer = TfidfVectorizer(max_features=5000, stop_words=\"english\")\n",
        "X_train_tfidf = vectorizer.fit_transform(X_train)\n",
        "X_test_tfidf = vectorizer.transform(X_test)\n",
        "\n",
        "print(\"Train shape:\", X_train_tfidf.shape)\n",
        "print(\"Test shape:\", X_test_tfidf.shape)\n"
      ],
      "metadata": {
        "colab": {
          "base_uri": "https://localhost:8080/"
        },
        "id": "Bw_BatTm2i66",
        "outputId": "6b7f1a28-2936-4f66-9d4a-007d0f677005"
      },
      "execution_count": null,
      "outputs": [
        {
          "output_type": "stream",
          "name": "stdout",
          "text": [
            "Train shape: (59745, 5000)\n",
            "Test shape: (14937, 5000)\n"
          ]
        }
      ]
    },
    {
      "cell_type": "markdown",
      "metadata": {
        "id": "412fba78"
      },
      "source": [
        "We train a Multinomial Naive Bayes model and evaluate its performance."
      ]
    },
    {
      "cell_type": "code",
      "source": [
        "from sklearn.naive_bayes import MultinomialNB\n",
        "from sklearn.metrics import classification_report, accuracy_score, confusion_matrix\n",
        "\n",
        "# Train model\n",
        "model = MultinomialNB()\n",
        "model.fit(X_train_tfidf, y_train)\n",
        "\n",
        "# Predictions\n",
        "y_pred = model.predict(X_test_tfidf)\n",
        "\n",
        "# Evaluation\n",
        "print(\"Accuracy:\", accuracy_score(y_test, y_pred))\n",
        "print(\"\\nClassification Report:\\n\", classification_report(y_test, y_pred))\n",
        "print(\"\\nConfusion Matrix:\\n\", confusion_matrix(y_test, y_pred))\n"
      ],
      "metadata": {
        "colab": {
          "base_uri": "https://localhost:8080/"
        },
        "id": "_WSjOlIOIw0I",
        "outputId": "a051b6eb-f7be-4999-9d6a-2fc83253aa7d"
      },
      "execution_count": null,
      "outputs": [
        {
          "output_type": "stream",
          "name": "stdout",
          "text": [
            "Accuracy: 0.636138448148892\n",
            "\n",
            "Classification Report:\n",
            "               precision    recall  f1-score   support\n",
            "\n",
            "  Irrelevant       0.75      0.35      0.48      2598\n",
            "    Negative       0.62      0.80      0.70      4509\n",
            "     Neutral       0.64      0.53      0.58      3664\n",
            "    Positive       0.62      0.73      0.67      4166\n",
            "\n",
            "    accuracy                           0.64     14937\n",
            "   macro avg       0.66      0.60      0.61     14937\n",
            "weighted avg       0.65      0.64      0.62     14937\n",
            "\n",
            "\n",
            "Confusion Matrix:\n",
            " [[ 915  712  294  677]\n",
            " [  74 3612  377  446]\n",
            " [ 143  841 1944  736]\n",
            " [  89  645  401 3031]]\n"
          ]
        }
      ]
    },
    {
      "cell_type": "markdown",
      "source": [
        " train a Logistic Regression model and evaluate its performance.\n"
      ],
      "metadata": {
        "id": "brXBcureOWNd"
      }
    },
    {
      "cell_type": "code",
      "source": [
        "from sklearn.linear_model import LogisticRegression\n",
        "\n",
        "# Train Logistic Regression\n",
        "log_reg = LogisticRegression(max_iter=10000, n_jobs=-1)\n",
        "log_reg.fit(X_train_tfidf, y_train)\n",
        "\n",
        "# Predictions\n",
        "y_pred_lr = log_reg.predict(X_test_tfidf)\n",
        "\n",
        "# Evaluation\n",
        "print(\"Accuracy (Logistic Regression):\", accuracy_score(y_test, y_pred_lr))\n",
        "print(\"\\nClassification Report:\\n\", classification_report(y_test, y_pred_lr))\n",
        "\n"
      ],
      "metadata": {
        "colab": {
          "base_uri": "https://localhost:8080/"
        },
        "id": "a4PYCmdAI3CB",
        "outputId": "1ae80c43-dccc-4262-dd45-3332de8cd0d3"
      },
      "execution_count": null,
      "outputs": [
        {
          "output_type": "stream",
          "name": "stdout",
          "text": [
            "Accuracy (Logistic Regression): 0.6769096873535516\n",
            "\n",
            "Classification Report:\n",
            "               precision    recall  f1-score   support\n",
            "\n",
            "  Irrelevant       0.69      0.50      0.58      2598\n",
            "    Negative       0.68      0.79      0.73      4509\n",
            "     Neutral       0.65      0.62      0.63      3664\n",
            "    Positive       0.69      0.72      0.70      4166\n",
            "\n",
            "    accuracy                           0.68     14937\n",
            "   macro avg       0.68      0.66      0.66     14937\n",
            "weighted avg       0.68      0.68      0.67     14937\n",
            "\n"
          ]
        }
      ]
    },
    {
      "cell_type": "markdown",
      "source": [
        " visualize the confusion matrix for the Logistic Regression model.\n"
      ],
      "metadata": {
        "id": "LwFSR6P4Oa-8"
      }
    },
    {
      "cell_type": "code",
      "source": [
        "import seaborn as sns\n",
        "import matplotlib.pyplot as plt\n",
        "from sklearn.metrics import confusion_matrix\n",
        "\n",
        "# Confusion Matrix for Logistic Regression\n",
        "cm = confusion_matrix(y_test, y_pred_lr, labels=log_reg.classes_)\n",
        "\n",
        "plt.figure(figsize=(8,6))\n",
        "sns.heatmap(cm, annot=True, fmt='d', cmap=\"Blues\", xticklabels=log_reg.classes_, yticklabels=log_reg.classes_)\n",
        "plt.xlabel(\"Predicted\")\n",
        "plt.ylabel(\"True\")\n",
        "plt.title(\"Confusion Matrix - Logistic Regression\")\n",
        "plt.show()\n",
        "\n"
      ],
      "metadata": {
        "colab": {
          "base_uri": "https://localhost:8080/",
          "height": 564
        },
        "id": "qX5hSZbNI8vV",
        "outputId": "f47a9c06-23c7-478d-a9eb-3e5575b265b2"
      },
      "execution_count": null,
      "outputs": [
        {
          "output_type": "display_data",
          "data": {
            "text/plain": [
              "<Figure size 800x600 with 2 Axes>"
            ],
            "image/png": "[encoded data removed]"
          },
          "metadata": {}
        }
      ]
    },
    {
      "cell_type": "markdown",
      "source": [
        "\n",
        "check the distribution of predictions for the Logistic Regression model.\n"
      ],
      "metadata": {
        "id": "Id-f8Ra_O2yj"
      }
    },
    {
      "cell_type": "code",
      "source": [
        "import pandas as pd\n",
        "\n",
        "pred_dist = pd.Series(y_pred_lr).value_counts()\n",
        "print(\"Prediction distribution:\\n\", pred_dist)\n",
        "\n"
      ],
      "metadata": {
        "colab": {
          "base_uri": "https://localhost:8080/"
        },
        "id": "VNtJnwIkJHqq",
        "outputId": "2be09e68-f68e-4754-e429-00091bf46d3a"
      },
      "execution_count": null,
      "outputs": [
        {
          "output_type": "stream",
          "name": "stdout",
          "text": [
            "Prediction distribution:\n",
            " Negative      5237\n",
            "Positive      4377\n",
            "Neutral       3451\n",
            "Irrelevant    1872\n",
            "Name: count, dtype: int64\n"
          ]
        }
      ]
    },
    {
      "cell_type": "markdown",
      "source": [
        "\n",
        "improve accuacruy using SVM"
      ],
      "metadata": {
        "id": "ouhxi2hzKJag"
      }
    },
    {
      "cell_type": "markdown",
      "source": [
        "Install necessary libraries"
      ],
      "metadata": {
        "id": "MwCfMTWEQq8g"
      }
    },
    {
      "cell_type": "code",
      "metadata": {
        "colab": {
          "base_uri": "https://localhost:8080/"
        },
        "id": "9e3e907b",
        "outputId": "ba143e76-f87d-4349-c8f5-c44fb1a16530"
      },
      "source": [
        "!pip install emoji contractions"
      ],
      "execution_count": null,
      "outputs": [
        {
          "output_type": "stream",
          "name": "stdout",
          "text": [
            "Requirement already satisfied: emoji in /usr/local/lib/python3.12/dist-packages (2.14.1)\n",
            "Requirement already satisfied: contractions in /usr/local/lib/python3.12/dist-packages (0.1.73)\n",
            "Requirement already satisfied: textsearch>=0.0.21 in /usr/local/lib/python3.12/dist-packages (from contractions) (0.0.24)\n",
            "Requirement already satisfied: anyascii in /usr/local/lib/python3.12/dist-packages (from textsearch>=0.0.21->contractions) (0.3.3)\n",
            "Requirement already satisfied: pyahocorasick in /usr/local/lib/python3.12/dist-packages (from textsearch>=0.0.21->contractions) (2.2.0)\n"
          ]
        }
      ]
    },
    {
      "cell_type": "markdown",
      "metadata": {
        "id": "3efd1e1f"
      },
      "source": [
        "Now that the necessary libraries are installed, I can proceed with the updated text cleaning function that includes handling contractions and emojis, and then we can explore using SVM for improved accuracy."
      ]
    },
    {
      "cell_type": "code",
      "metadata": {
        "colab": {
          "base_uri": "https://localhost:8080/"
        },
        "id": "aaa00086",
        "outputId": "53ccfac5-71d9-4c96-a100-dd4d7d18c19c"
      },
      "source": [
        "import re, emoji, contractions\n",
        "from nltk.corpus import stopwords\n",
        "import nltk\n",
        "nltk.download(\"stopwords\")\n",
        "stop_words = set(stopwords.words(\"english\"))\n",
        "\n",
        "def clean_text(text):\n",
        "    text = text.lower()\n",
        "    text = contractions.fix(text)                  # expand contractions\n",
        "    text = emoji.demojize(text)                    # 🙂 -> \":slightly_smiling_face:\"\n",
        "    text = re.sub(r\"http\\S+|www\\S+\", \"\", text)     # remove URLs\n",
        "    text = re.sub(r\"@\\w+|#\\w+\", \"\", text)          # remove mentions & hashtags\n",
        "    text = re.sub(r\"[^a-zA-Z\\s]\", \"\", text)        # remove special chars & numbers\n",
        "    text = \" \".join([w for w in text.split() if w not in stop_words])  # remove stopwords\n",
        "    return text.strip()\n",
        "\n",
        "# Apply cleaning\n",
        "df[\"clean_text\"] = df[\"text\"].astype(str).apply(clean_text)\n",
        "\n",
        "print(df[[\"text\", \"clean_text\"]].head(10))"
      ],
      "execution_count": null,
      "outputs": [
        {
          "output_type": "stream",
          "name": "stderr",
          "text": [
            "[nltk_data] Downloading package stopwords to /root/nltk_data...\n",
            "[nltk_data]   Package stopwords is already up-to-date!\n"
          ]
        },
        {
          "output_type": "stream",
          "name": "stdout",
          "text": [
            "                                                text  \\\n",
            "0  im getting on borderlands and i will murder yo...   \n",
            "1  I am coming to the borders and I will kill you...   \n",
            "2  im getting on borderlands and i will kill you ...   \n",
            "3  im coming on borderlands and i will murder you...   \n",
            "4  im getting on borderlands 2 and i will murder ...   \n",
            "5  im getting into borderlands and i can murder y...   \n",
            "6  So I spent a few hours making something for fu...   \n",
            "7  So I spent a couple of hours doing something f...   \n",
            "8  So I spent a few hours doing something for fun...   \n",
            "9  So I spent a few hours making something for fu...   \n",
            "\n",
            "                                          clean_text  \n",
            "0                         getting borderlands murder  \n",
            "1                                coming borders kill  \n",
            "2                           getting borderlands kill  \n",
            "3                          coming borderlands murder  \n",
            "4                         getting borderlands murder  \n",
            "5                         getting borderlands murder  \n",
            "6  spent hours making something fun know huge fan...  \n",
            "7  spent couple hours something fun know huge bor...  \n",
            "8  spent hours something fun know huge borderland...  \n",
            "9  spent hours making something fun know huge rha...  \n"
          ]
        }
      ]
    },
    {
      "cell_type": "markdown",
      "source": [
        "Now that the necessary libraries are installed, I can proceed with the updated text cleaning function that includes handling contractions and emojis, and then we can explore using SVM for improved accuracy."
      ],
      "metadata": {
        "id": "GQZJNRw4PLTI"
      }
    },
    {
      "cell_type": "code",
      "source": [
        "import re, emoji, contractions\n",
        "from nltk.corpus import stopwords\n",
        "import nltk\n",
        "nltk.download(\"stopwords\")\n",
        "stop_words = set(stopwords.words(\"english\"))\n",
        "\n",
        "def clean_text(text):\n",
        "    text = text.lower()\n",
        "    text = contractions.fix(text)                  # expand contractions\n",
        "    text = emoji.demojize(text)                    # 🙂 -> \":slightly_smiling_face:\"\n",
        "    text = re.sub(r\"http\\S+|www\\S+\", \"\", text)     # remove URLs\n",
        "    text = re.sub(r\"@\\w+|#\\w+\", \"\", text)          # remove mentions & hashtags\n",
        "    text = re.sub(r\"[^a-zA-Z\\s]\", \"\", text)        # remove special chars & numbers\n",
        "    text = \" \".join([w for w in text.split() if w not in stop_words])  # remove stopwords\n",
        "    return text.strip()\n"
      ],
      "metadata": {
        "colab": {
          "base_uri": "https://localhost:8080/"
        },
        "id": "qy6qmlWZJWw3",
        "outputId": "2c0685df-ad55-498b-92ab-b201820b5876"
      },
      "execution_count": null,
      "outputs": [
        {
          "output_type": "stream",
          "name": "stderr",
          "text": [
            "[nltk_data] Downloading package stopwords to /root/nltk_data...\n",
            "[nltk_data]   Package stopwords is already up-to-date!\n"
          ]
        }
      ]
    },
    {
      "cell_type": "markdown",
      "source": [
        "We apply the improved cleaning function to the text data.\n",
        "\n"
      ],
      "metadata": {
        "id": "JOYlPUS3PWfu"
      }
    },
    {
      "cell_type": "code",
      "source": [
        "df[\"clean_text\"] = df[\"text\"].astype(str).apply(clean_text)"
      ],
      "metadata": {
        "id": "b9Kt8panKvE6"
      },
      "execution_count": null,
      "outputs": []
    },
    {
      "cell_type": "markdown",
      "source": [
        " define an improved text cleaning function that includes handling contractions, emojis, and stopwords."
      ],
      "metadata": {
        "id": "qWqUJR_tPcA6"
      }
    },
    {
      "cell_type": "code",
      "source": [
        "from sklearn.feature_extraction.text import TfidfVectorizer\n",
        "\n",
        "vectorizer = TfidfVectorizer(max_features=10000, stop_words=\"english\", ngram_range=(1,2))\n",
        "X = vectorizer.fit_transform(df[\"clean_text\"])\n",
        "y = df[\"sentiment\"]\n"
      ],
      "metadata": {
        "id": "Git70DylKx7L"
      },
      "execution_count": null,
      "outputs": []
    },
    {
      "cell_type": "markdown",
      "source": [
        "Split the data and train a Linear SVC model (SVM) for sentiment classification and evaluate its performance."
      ],
      "metadata": {
        "id": "ut6eOP8NPdGe"
      }
    },
    {
      "cell_type": "code",
      "source": [
        "from sklearn.model_selection import train_test_split\n",
        "from sklearn.svm import LinearSVC\n",
        "from sklearn.metrics import classification_report, accuracy_score\n",
        "\n",
        "X_train, X_test, y_train, y_test = train_test_split(X, y, test_size=0.2, random_state=42, stratify=y)\n",
        "\n",
        "model = LinearSVC()\n",
        "model.fit(X_train, y_train)\n",
        "\n",
        "y_pred = model.predict(X_test)\n",
        "\n",
        "print(\"Accuracy:\", accuracy_score(y_test, y_pred))\n",
        "print(classification_report(y_test, y_pred))\n"
      ],
      "metadata": {
        "colab": {
          "base_uri": "https://localhost:8080/"
        },
        "id": "hCtTapr-K1I8",
        "outputId": "8f0b7a30-e96d-4726-cded-5b589bc09a11"
      },
      "execution_count": null,
      "outputs": [
        {
          "output_type": "stream",
          "name": "stdout",
          "text": [
            "Accuracy: 0.7744527013456517\n",
            "              precision    recall  f1-score   support\n",
            "\n",
            "  Irrelevant       0.79      0.66      0.72      2598\n",
            "    Negative       0.77      0.85      0.81      4509\n",
            "     Neutral       0.77      0.73      0.75      3664\n",
            "    Positive       0.78      0.80      0.79      4166\n",
            "\n",
            "    accuracy                           0.77     14937\n",
            "   macro avg       0.78      0.76      0.77     14937\n",
            "weighted avg       0.78      0.77      0.77     14937\n",
            "\n"
          ]
        }
      ]
    },
    {
      "cell_type": "markdown",
      "source": [
        "Perform a grid search to find the best hyperparameter for the Linear SVC model."
      ],
      "metadata": {
        "id": "bRXsPn8GQJMl"
      }
    },
    {
      "cell_type": "code",
      "source": [
        "from sklearn.model_selection import GridSearchCV\n",
        "\n",
        "param_grid = {\"C\": [0.01, 0.1, 1, 10]}\n",
        "grid = GridSearchCV(LinearSVC(), param_grid, cv=3, scoring=\"accuracy\", n_jobs=-1)\n",
        "grid.fit(X_train, y_train)\n",
        "\n",
        "print(\"Best C:\", grid.best_params_)\n",
        "print(\"Best accuracy:\", grid.best_score_)\n"
      ],
      "metadata": {
        "colab": {
          "base_uri": "https://localhost:8080/"
        },
        "id": "Fbrl4DUnK2iQ",
        "outputId": "91bfdec8-67ce-42fc-c456-961d8e632ce0"
      },
      "execution_count": null,
      "outputs": [
        {
          "output_type": "stream",
          "name": "stdout",
          "text": [
            "Best C: {'C': 10}\n",
            "Best accuracy: 0.7523976901832788\n"
          ]
        }
      ]
    },
    {
      "cell_type": "markdown",
      "metadata": {
        "id": "891e6162"
      },
      "source": [
        "Re-apply the improved text cleaning function to ensure it's using the correct NLTK data."
      ]
    },
    {
      "cell_type": "code",
      "source": [
        "import re, emoji, contractions\n",
        "from nltk.corpus import stopwords\n",
        "import nltk\n",
        "\n",
        "# Download stopwords if not already\n",
        "nltk.download(\"stopwords\")\n",
        "stop_words = set(stopwords.words(\"english\"))\n",
        "\n",
        "def clean_text(text):\n",
        "    text = str(text).lower()\n",
        "    text = contractions.fix(text)                  # expand contractions: can't -> cannot\n",
        "    text = emoji.demojize(text)                    # 🙂 -> \":slightly_smiling_face:\"\n",
        "    text = re.sub(r\"http\\S+|www\\S+\", \"\", text)     # remove URLs\n",
        "    text = re.sub(r\"@\\w+|#\\w+\", \"\", text)          # remove mentions & hashtags\n",
        "    text = re.sub(r\"[^a-zA-Z\\s]\", \"\", text)        # keep only letters\n",
        "    text = \" \".join([w for w in text.split() if w not in stop_words])  # remove stopwords\n",
        "    return text.strip()\n",
        "\n",
        "# Apply to your dataset\n",
        "df[\"clean_text\"] = df[\"text\"].apply(clean_text)\n",
        "\n",
        "print(df[[\"text\", \"clean_text\"]].head(10))\n"
      ],
      "metadata": {
        "colab": {
          "base_uri": "https://localhost:8080/"
        },
        "id": "8iCOEOO0LiY_",
        "outputId": "daad59a1-732d-4fce-b494-164cd5012048"
      },
      "execution_count": null,
      "outputs": [
        {
          "output_type": "stream",
          "name": "stderr",
          "text": [
            "[nltk_data] Downloading package stopwords to /root/nltk_data...\n",
            "[nltk_data]   Package stopwords is already up-to-date!\n"
          ]
        },
        {
          "output_type": "stream",
          "name": "stdout",
          "text": [
            "                                                text  \\\n",
            "0  im getting on borderlands and i will murder yo...   \n",
            "1  I am coming to the borders and I will kill you...   \n",
            "2  im getting on borderlands and i will kill you ...   \n",
            "3  im coming on borderlands and i will murder you...   \n",
            "4  im getting on borderlands 2 and i will murder ...   \n",
            "5  im getting into borderlands and i can murder y...   \n",
            "6  So I spent a few hours making something for fu...   \n",
            "7  So I spent a couple of hours doing something f...   \n",
            "8  So I spent a few hours doing something for fun...   \n",
            "9  So I spent a few hours making something for fu...   \n",
            "\n",
            "                                          clean_text  \n",
            "0                         getting borderlands murder  \n",
            "1                                coming borders kill  \n",
            "2                           getting borderlands kill  \n",
            "3                          coming borderlands murder  \n",
            "4                         getting borderlands murder  \n",
            "5                         getting borderlands murder  \n",
            "6  spent hours making something fun know huge fan...  \n",
            "7  spent couple hours something fun know huge bor...  \n",
            "8  spent hours something fun know huge borderland...  \n",
            "9  spent hours making something fun know huge rha...  \n"
          ]
        }
      ]
    },
    {
      "cell_type": "markdown",
      "source": [
        "use TF-IDF vectorization with unigrams and bigrams and a higher max_features for potentially better performance."
      ],
      "metadata": {
        "id": "_xEA2wurP4na"
      }
    },
    {
      "cell_type": "code",
      "source": [
        "from sklearn.feature_extraction.text import TfidfVectorizer\n",
        "\n",
        "# TF-IDF with unigrams + bigrams\n",
        "vectorizer = TfidfVectorizer(ngram_range=(1,2), max_features=20000)\n",
        "\n",
        "X = vectorizer.fit_transform(df[\"clean_text\"])\n",
        "y = df[\"sentiment\"]\n",
        "\n",
        "print(\"TF-IDF shape:\", X.shape)\n",
        "\n"
      ],
      "metadata": {
        "colab": {
          "base_uri": "https://localhost:8080/"
        },
        "id": "bZLrtixGLqXH",
        "outputId": "f8b8a5bb-e928-4fba-d218-c896ac0e0abb"
      },
      "execution_count": null,
      "outputs": [
        {
          "output_type": "stream",
          "name": "stdout",
          "text": [
            "TF-IDF shape: (74682, 20000)\n"
          ]
        }
      ]
    },
    {
      "cell_type": "markdown",
      "metadata": {
        "id": "rXfdlzWZOKlV"
      },
      "source": [
        "Train a Logistic Regression model with updated parameters and evaluate its performance."
      ]
    },
    {
      "cell_type": "code",
      "source": [
        "from sklearn.model_selection import train_test_split\n",
        "from sklearn.linear_model import LogisticRegression\n",
        "from sklearn.metrics import classification_report, accuracy_score\n",
        "\n",
        "# Train/test split\n",
        "X_train, X_test, y_train, y_test = train_test_split(\n",
        "    X, y, test_size=0.2, random_state=42, stratify=y\n",
        ")\n",
        "\n",
        "# Logistic Regression with stronger regularization\n",
        "model = LogisticRegression(max_iter=400, C=2.0, class_weight='balanced')\n",
        "model.fit(X_train, y_train)\n",
        "\n",
        "# Predictions\n",
        "y_pred = model.predict(X_test)\n",
        "\n",
        "# Evaluation\n",
        "print(\"Accuracy:\", accuracy_score(y_test, y_pred))\n",
        "\n",
        "print(classification_report(y_test, y_pred))\n"
      ],
      "metadata": {
        "colab": {
          "base_uri": "https://localhost:8080/"
        },
        "id": "3Z8_j3ClLuJt",
        "outputId": "5a4e113e-4b0f-4080-edcc-842570a1f5f5"
      },
      "execution_count": null,
      "outputs": [
        {
          "output_type": "stream",
          "name": "stdout",
          "text": [
            "Accuracy: 0.8087969471781482\n",
            "              precision    recall  f1-score   support\n",
            "\n",
            "  Irrelevant       0.77      0.79      0.78      2598\n",
            "    Negative       0.87      0.82      0.85      4509\n",
            "     Neutral       0.73      0.81      0.77      3664\n",
            "    Positive       0.84      0.80      0.82      4166\n",
            "\n",
            "    accuracy                           0.81     14937\n",
            "   macro avg       0.81      0.81      0.81     14937\n",
            "weighted avg       0.81      0.81      0.81     14937\n",
            "\n"
          ]
        }
      ]
    },
    {
      "cell_type": "markdown",
      "source": [
        "SVM\n"
      ],
      "metadata": {
        "id": "M1Y7z8LWLrx8"
      }
    },
    {
      "cell_type": "markdown",
      "metadata": {
        "id": "68621693"
      },
      "source": [
        "Train a Linear SVC model (SVM) and evaluate its performance."
      ]
    },
    {
      "cell_type": "code",
      "metadata": {
        "colab": {
          "base_uri": "https://localhost:8080/"
        },
        "id": "a8619c83",
        "outputId": "140815e4-86a6-476b-9a66-bb6ef7bdf2dc"
      },
      "source": [
        "from sklearn.svm import LinearSVC\n",
        "from sklearn.metrics import classification_report, accuracy_score\n",
        "\n",
        "# Instantiate and train the model\n",
        "model = LinearSVC()\n",
        "model.fit(X_train, y_train)\n",
        "\n",
        "# Predictions\n",
        "y_pred = model.predict(X_test)\n",
        "\n",
        "# Evaluation\n",
        "print(\"Accuracy:\", accuracy_score(y_test, y_pred))\n",
        "print(\"\\nClassification Report:\\n\", classification_report(y_test, y_pred))"
      ],
      "execution_count": null,
      "outputs": [
        {
          "output_type": "stream",
          "name": "stdout",
          "text": [
            "Accuracy: 0.8422039231438709\n",
            "\n",
            "Classification Report:\n",
            "               precision    recall  f1-score   support\n",
            "\n",
            "  Irrelevant       0.86      0.76      0.81      2598\n",
            "    Negative       0.83      0.90      0.86      4509\n",
            "     Neutral       0.83      0.82      0.83      3664\n",
            "    Positive       0.85      0.85      0.85      4166\n",
            "\n",
            "    accuracy                           0.84     14937\n",
            "   macro avg       0.84      0.83      0.84     14937\n",
            "weighted avg       0.84      0.84      0.84     14937\n",
            "\n"
          ]
        }
      ]
    },
    {
      "cell_type": "markdown",
      "metadata": {
        "id": "1ee21892"
      },
      "source": [
        "\n",
        "\n",
        "Visualize the confusion matrix for the SVM model.\n",
        "\n"
      ]
    },
    {
      "cell_type": "code",
      "metadata": {
        "colab": {
          "base_uri": "https://localhost:8080/",
          "height": 564
        },
        "id": "9dcb19fa",
        "outputId": "24ed99c5-d61c-474c-e11f-47f6e05ac81a"
      },
      "source": [
        "# Confusion Matrix for SVM\n",
        "cm_svm = confusion_matrix(y_test, y_pred, labels=model.classes_)\n",
        "\n",
        "plt.figure(figsize=(8,6))\n",
        "sns.heatmap(cm_svm, annot=True, fmt='d', cmap=\"Blues\", xticklabels=model.classes_, yticklabels=model.classes_)\n",
        "plt.xlabel(\"Predicted\")\n",
        "plt.ylabel(\"True\")\n",
        "plt.title(\"Confusion Matrix - SVM\")\n",
        "plt.show()"
      ],
      "execution_count": null,
      "outputs": [
        {
          "output_type": "display_data",
          "data": {
            "text/plain": [
              "<Figure size 800x600 with 2 Axes>"
            ],
            "image/png": "[encoded data removed]"
          },
          "metadata": {}
        }
      ]
    },
    {
      "cell_type": "markdown",
      "metadata": {
        "id": "19bf5b44"
      },
      "source": [
        "Compare the accuracy of the Logistic Regression and SVM models using a bar chart."
      ]
    },
    {
      "cell_type": "code",
      "metadata": {
        "colab": {
          "base_uri": "https://localhost:8080/",
          "height": 545
        },
        "id": "90d3997b",
        "outputId": "e75c2789-5f1e-4a07-db30-13415d2926e2"
      },
      "source": [
        "import matplotlib.pyplot as plt\n",
        "\n",
        "# Store model accuracies\n",
        "accuracies = {\n",
        "    \"Logistic Regression\": accuracy_score(y_test, y_pred_lr),\n",
        "    \"SVM\": accuracy_score(y_test, y_pred)\n",
        "}\n",
        "\n",
        "# Create bar chart\n",
        "models = list(accuracies.keys())\n",
        "accuracy_values = list(accuracies.values())\n",
        "\n",
        "plt.figure(figsize=(8, 6))\n",
        "plt.bar(models, accuracy_values, color=[\"blue\", \"green\"])\n",
        "plt.ylim(0, 1)  # Accuracy is between 0 and 1\n",
        "plt.ylabel(\"Accuracy\")\n",
        "plt.title(\"Model Accuracy Comparison\")\n",
        "plt.show()"
      ],
      "execution_count": null,
      "outputs": [
        {
          "output_type": "display_data",
          "data": {
            "text/plain": [
              "<Figure size 800x600 with 1 Axes>"
            ],
            "image/png": "[encoded data removed]"
          },
          "metadata": {}
        }
      ]
    },
    {
      "cell_type": "markdown",
      "metadata": {
        "id": "216d46ab"
      },
      "source": [
        "Notebook focuses on performing sentiment analysis on a Twitter dataset to classify tweets into one of four sentiment categories: Negative, Positive, Neutral, and Irrelevant. The process involved:\n",
        "\n",
        "1.  **Data Loading and Exploration:** Loading the dataset and examining its basic structure and the distribution of sentiment labels.\n",
        "2.  **Text Preprocessing:** Implementing a comprehensive text cleaning pipeline that includes handling contractions and emojis, removing noise like URLs and mentions, and removing common English stopwords to prepare the text data for model training.\n",
        "3.  **Feature Extraction:** Converting the cleaned text data into numerical features using TF-IDF vectorization, considering both unigrams and bigrams to capture more context.\n",
        "4.  **Model Training and Evaluation:** Training two different machine learning models, Logistic Regression and Linear Support Vector Machine (SVM), on the processed data. The models were evaluated using standard metrics like accuracy and classification reports.\n",
        "5.  **Performance Comparison:** Visualizing the performance of the models using confusion matrices and a bar chart comparing their overall accuracy.\n",
        "\n",
        "The results showed that the Linear SVM model achieved a higher accuracy (approximately 84.2%) compared to the Logistic Regression model (approximately 80.9%) on this dataset, indicating its better performance in classifying the sentiment of the tweets."
      ]
    }
  ]
}